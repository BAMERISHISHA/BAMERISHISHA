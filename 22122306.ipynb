{
 "cells": [
  {
   "cell_type": "markdown",
   "metadata": {},
   "source": [
    "Lab Assignment \n",
    "Name - Bamersishisha Laloo \n",
    "Reg- 22122306.\n",
    "Date - 19 November 2022"
   ]
  },
  {
   "cell_type": "markdown",
   "metadata": {},
   "source": [
    "Q1. Read values for P, T, and R and calculate Simple Interest."
   ]
  },
  {
   "cell_type": "code",
   "execution_count": 7,
   "metadata": {},
   "outputs": [
    {
     "name": "stdout",
     "output_type": "stream",
     "text": [
      "Principal amount is : Rs 2000.0\n",
      "The rate of interest is :  7 % per anum\n",
      "Time period alloted:  3.5 years\n",
      "The simple interest for the given principal amount, rate of interest and time period is, 490.0\n"
     ]
    }
   ],
   "source": [
    "def simpleinterest(): #defining a function to calculate the interest rate\n",
    "    # taking inputs from user for principal amount\n",
    "    p = float(input(\"Enter the principal amount\"))\n",
    "    print(\"Principal amount is : Rs\", p )\n",
    "    #taking inputs from user for interest rate \n",
    "    r = int(input(\"Enter the rate of interest per annum given\"))\n",
    "    print(\"The rate of interest is : \", r, \"% per anum\" )\n",
    "    #taking inputs from user for time period \n",
    "    t = float(input(\"Enter the time period in years\"))\n",
    "    print(\"Time period alloted: \", t , \"years\")\n",
    "    #calculating simple interest \n",
    "    s = (p* r * t)/100\n",
    "    return s \n",
    "\n",
    "print(\"The simple interest for the given principal amount, rate of interest and time period is,\" ,simpleinterest())"
   ]
  },
  {
   "cell_type": "markdown",
   "metadata": {},
   "source": [
    "Q2. Read input length in cm, convert it into meters, km and miles, and print them."
   ]
  },
  {
   "cell_type": "code",
   "execution_count": 16,
   "metadata": {},
   "outputs": [
    {
     "name": "stdout",
     "output_type": "stream",
     "text": [
      "123.56 cm =  0.0012356000000000001 km\n"
     ]
    }
   ],
   "source": [
    "#taking inputs in length \n",
    "l = float(input(\"Enter the length in cm\"))\n",
    "def centimeters_meters(): #defining a function for converting centimeters to meters\n",
    "    new_length = l / 100 # converting cm to m\n",
    "    return new_length\n",
    "def centimeters_kilometers(): #defining a function for converting centimeters to kilometers\n",
    "    new_length2 = l / 100000 # converting cm to km\n",
    "    return new_length2 \n",
    "def centimeters_miles():#defining a function for converting centimeters to miles\n",
    "    new_length3 = l / 160934.4 # converting cm to miles\n",
    "    return new_length3\n",
    "option = int(input(\"Enter 1 if you want to convert cm to meters, \\n 2. if you want to convert cm to km, \\n 3. if you want to convert cm to m.\"))\n",
    "if option == 1: #creating options for users to choose if they want to convert the given vale to m\n",
    "    print( l , \"cm = \",centimeters_meters() , \"m\")\n",
    "elif option ==2: #creating options for users to choose if they want to convert the given vale to km\n",
    "    print( l , \"cm = \", centimeters_kilometers() , \"km\")\n",
    "elif option == 3: #creating options for users to choose if they want to convert the given vale to miles\n",
    "    print( l ,\"cm = \" ,centimeters_miles() , \"miles\")\n",
    "else: \n",
    "    print(\"Enter a valid input\")\n",
    " "
   ]
  },
  {
   "cell_type": "markdown",
   "metadata": {},
   "source": [
    "Q3. Read two numbers and find which is closest to zero."
   ]
  },
  {
   "cell_type": "code",
   "execution_count": 17,
   "metadata": {},
   "outputs": [
    {
     "name": "stdout",
     "output_type": "stream",
     "text": [
      "1.0 is closer to 0 than 4.0\n"
     ]
    }
   ],
   "source": [
    "#taking two input numbers from the user\n",
    "no1 = float(input(\"Enter a the first number\"))\n",
    "no2 = float(input(\"Enter the second number\")) \n",
    "def closest(): #defining a function to check which of the two numbers is closer to 0\n",
    "    if no1 > no2: #checking if the first number is greater than the second number \n",
    "        print(no2, \"is closer to 0 than\", no1)\n",
    "    elif no2 > no1:  #checking if the second number is greater than the first number \n",
    "        print( no1, \"is closer to 0 than \", no2 )\n",
    "    elif no1 == no2: #checking if the two numbers are equal \n",
    "        print(\" The numbers \", no1 , no2, \" are equal\")\n",
    "closest()"
   ]
  },
  {
   "cell_type": "markdown",
   "metadata": {},
   "source": [
    "Q4. Read two numbers and print all the numbers between them. After that, print all the multiples of 5 between those numbers."
   ]
  },
  {
   "cell_type": "code",
   "execution_count": 23,
   "metadata": {},
   "outputs": [
    {
     "name": "stdout",
     "output_type": "stream",
     "text": [
      "The numbers between -4 and 2 are:\n",
      "-3\n",
      "-2\n",
      "-1\n",
      "0\n",
      "1\n",
      "2\n",
      "Multiples of 5 between 2 and -4 are:\n",
      "-20\n",
      "-15\n",
      "-10\n",
      "-5\n",
      "0\n",
      "5\n"
     ]
    }
   ],
   "source": [
    "#taking two input numbers from the user \n",
    "a = int(input(\"Enter first interger.\"))\n",
    "b = int(input(\"enter second integer\"))\n",
    "\n",
    "def all_numbers():  #defining a function to print all the numbers between thje given input numbers\n",
    "    if a > b: #checking if first number is greater than second, the it will perform the following set of operations\n",
    "        i = b #assigning value of i to b \n",
    "        print(\"The numbers between\",b ,\"and\" , a , \"are:\")\n",
    "        while i < a : # as long as i is smaller than the first number it will print the values in between the two numbers \n",
    "            num = 0 + i \n",
    "            i  = i +1 # increasing the value of i to find the next number. since we are dealing with integers, increment value is 1 \n",
    "            print(i)\n",
    "        \n",
    "    elif b > a : #checking if second number is greater than first, then it will perform the following set of operations\n",
    "        i = a  \n",
    "        print(\"The numbers between\", a ,\"and\" , b , \"are:\")\n",
    "        while i < b : # as long as i is smaller than the second number it will print the values in between the two numbers \n",
    "            num = 0 + i\n",
    "            i  = i +1 # increasing the value of i to find the next number. since we are dealing with integers, increment value is 1 \n",
    "            print(i)\n",
    "    elif a == b: # checking if the two numbers are equal \n",
    "        print(\"There are no numbers in between\")\n",
    "    else:\n",
    "        print(\"Enter a valid input\")   \n",
    "all_numbers() # calling the function to perform the task \n",
    "\n",
    "def multiples5():\n",
    "    if a > b: #checking if first number is greater than second, the it will perform the following set of operations\n",
    "        i = b #assigning value of i to b \n",
    "        print(\"Multiples of 5 between\" ,b ,\"and\" , a , \"are:\")\n",
    "        while i < a : # as long as i is smaller than the first number it will print the values in between the two numbers \n",
    "            num = 0 + i \n",
    "            m = i * 5 # calculating multiple of 5 \n",
    "            i  = i +1 # increasing the value of i to find the next number and multiple. since we are dealing with integers, increment value is 1 \n",
    "            print(m)\n",
    "    elif b > a: #checking if second number is greater than first, the it will perform the following set of operations\n",
    "        i = a #assigning value of i to b \n",
    "        print(\"Multiples of 5 between\" ,b ,\"and\" , a , \"are:\")\n",
    "        while i < b : # as long as i is smaller than the first number it will print the values in between the two numbers \n",
    "            num = 0 + i \n",
    "            m = i * 5 # calculating multiple of 5 \n",
    "            i  = i +1 # increasing the value of i to find the next number and multiple. since we are dealing with integers, increment value is 1 \n",
    "            print(m)\n",
    "    elif a == b:\n",
    "        m = a * 5\n",
    "        print(\"multiple of \", a , \"is\", m)\n",
    "    else:\n",
    "        print(\"Enter a valid number\")\n",
    "multiples5()\n"
   ]
  },
  {
   "cell_type": "markdown",
   "metadata": {},
   "source": [
    "Q5. Program to find the sum of the first N numbers (where N is a user input)"
   ]
  },
  {
   "cell_type": "code",
   "execution_count": 40,
   "metadata": {},
   "outputs": [
    {
     "name": "stdout",
     "output_type": "stream",
     "text": [
      "Sum of the first 5 numbers =  15\n"
     ]
    }
   ],
   "source": [
    "#Taking user input of any natural number \n",
    "N = int(input(\"Enter a number\"))\n",
    "def sum(): #defining a fumction to find the sum of the first N numbres inputby user \n",
    "    i = 0 \n",
    "    sum1 = 0\n",
    "    while i <= N:#condition to calculate the sum of frist  n numbers input by user\n",
    "        sum1 = sum1 + i #adding the numbers \n",
    "        i = i + 1# incrementing the value of i by 1 \n",
    "    print(\"Sum of the first\", N , \"numbers = \", sum1) \n",
    "sum()"
   ]
  },
  {
   "cell_type": "code",
   "execution_count": null,
   "metadata": {},
   "outputs": [],
   "source": []
  }
 ],
 "metadata": {
  "kernelspec": {
   "display_name": "Python 3.10.6 64-bit",
   "language": "python",
   "name": "python3"
  },
  "language_info": {
   "codemirror_mode": {
    "name": "ipython",
    "version": 3
   },
   "file_extension": ".py",
   "mimetype": "text/x-python",
   "name": "python",
   "nbconvert_exporter": "python",
   "pygments_lexer": "ipython3",
   "version": "3.10.6"
  },
  "orig_nbformat": 4,
  "vscode": {
   "interpreter": {
    "hash": "31f2aee4e71d21fbe5cf8b01ff0e069b9275f58929596ceb00d14d90e3e16cd6"
   }
  }
 },
 "nbformat": 4,
 "nbformat_minor": 2
}
